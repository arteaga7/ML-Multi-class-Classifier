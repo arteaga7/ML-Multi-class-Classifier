{
 "cells": [
  {
   "cell_type": "markdown",
   "id": "517ca665",
   "metadata": {},
   "source": [
    "# Machine Learning (Scikit-learn): Multi-class Classifier\n",
    "\n",
    "In this document, the performance of 3 different Machine Learning (ML) algorithms are\n",
    "compared to solve the multi-class classification problem. The following algorithms are implemented:\n",
    "\n",
    "Algorithm 1: KNeighborsClassifier.\n",
    "\n",
    "Algorithm 2: SVC.\n",
    "\n",
    "Algorithm 3: GaussianNB."
   ]
  },
  {
   "cell_type": "code",
   "execution_count": 24,
   "id": "3f858a16",
   "metadata": {},
   "outputs": [],
   "source": [
    "# Import libraries\n",
    "import matplotlib.pyplot as plt\n",
    "import numpy as np\n",
    "import pandas as pd\n",
    "from sklearn.datasets import load_digits\n",
    "from sklearn.model_selection import train_test_split\n",
    "from sklearn.neighbors import KNeighborsClassifier\n",
    "from sklearn.svm import SVC\n",
    "from sklearn.naive_bayes import GaussianNB\n",
    "from sklearn.metrics import accuracy_score, precision_score,recall_score, f1_score"
   ]
  },
  {
   "cell_type": "markdown",
   "id": "92ae1029",
   "metadata": {},
   "source": [
    "Dataset is imported from sklearn library, hence, the exploratory data analysis (EDA) is ommited. Dataset \"digits\" will be used."
   ]
  },
  {
   "cell_type": "code",
   "execution_count": 25,
   "id": "4b53713e",
   "metadata": {},
   "outputs": [],
   "source": [
    "# Load dataset\n",
    "digits = load_digits()\n",
    "\n",
    "# Print description of the dataset\n",
    "#print(digits.DESCR)"
   ]
  },
  {
   "cell_type": "markdown",
   "id": "0904a365",
   "metadata": {},
   "source": [
    "Some 'images' of the dataset are shown below."
   ]
  },
  {
   "cell_type": "code",
   "execution_count": 26,
   "id": "50dc1df4",
   "metadata": {},
   "outputs": [
    {
     "data": {
      "image/png": "[encoded data removed]",
      "text/plain": [
       "<Figure size 400x200 with 10 Axes>"
      ]
     },
     "metadata": {},
     "output_type": "display_data"
    }
   ],
   "source": [
    "# Plot the first 10 images of the dataset\n",
    "figure, axes = plt.subplots(nrows=2,ncols= 5, figsize=(4, 2))\n",
    "for item in zip(axes.ravel(), digits.images, digits.target):\n",
    "    axes, image, target = item\n",
    "    axes.imshow(image, cmap='gray_r')\n",
    "    axes.set_title(f'Target: {target}')\n",
    "    axes.set_xticks([])\n",
    "    axes.set_yticks([])\n",
    "\n",
    "# Adjust subplot parameters within a figure    \n",
    "plt.tight_layout()"
   ]
  },
  {
   "cell_type": "markdown",
   "id": "feffdc32",
   "metadata": {},
   "source": [
    "The dataset has 1797 \"images\" with 64 features (8x8 pixels)."
   ]
  },
  {
   "cell_type": "code",
   "execution_count": 27,
   "id": "2cd92a2b",
   "metadata": {},
   "outputs": [
    {
     "name": "stdout",
     "output_type": "stream",
     "text": [
      "(1797, 64)\n",
      "(1797,)\n"
     ]
    }
   ],
   "source": [
    "print(digits.data.shape)\n",
    "print(digits.target.shape)"
   ]
  },
  {
   "cell_type": "markdown",
   "id": "ae4e5ad7",
   "metadata": {},
   "source": [
    "Classes are balanced, this is, there are aproximatly the same number of training data for all classes."
   ]
  },
  {
   "cell_type": "code",
   "execution_count": 28,
   "id": "26f556b7",
   "metadata": {},
   "outputs": [
    {
     "name": "stdout",
     "output_type": "stream",
     "text": [
      "target\n",
      "3         183\n",
      "1         182\n",
      "5         182\n",
      "4         181\n",
      "6         181\n",
      "9         180\n",
      "7         179\n",
      "0         178\n",
      "2         177\n",
      "8         174\n",
      "Name: count, dtype: int64\n"
     ]
    }
   ],
   "source": [
    "# Convert to DataFrame\n",
    "y = pd.DataFrame(digits.target, columns=['target'])\n",
    "\n",
    "# Verify if classes are balanced\n",
    "print(y.value_counts())"
   ]
  },
  {
   "cell_type": "code",
   "execution_count": 29,
   "id": "803192ae",
   "metadata": {},
   "outputs": [],
   "source": [
    "# Obtain characteristic matrix (x) and objective variable (y)\n",
    "x = digits.data\n",
    "y = digits.target\n",
    "\n",
    "# Split the dataset into training and testing sets\n",
    "x_train, x_test, y_train, y_test = train_test_split(\n",
    "x, y, test_size=0.2, random_state=0)"
   ]
  },
  {
   "cell_type": "markdown",
   "id": "cf9963ec",
   "metadata": {},
   "source": [
    "## Model creation"
   ]
  },
  {
   "cell_type": "code",
   "execution_count": 30,
   "id": "8e975579",
   "metadata": {},
   "outputs": [],
   "source": [
    "def all_metrics(y_test, y_pred, title='', average='weighted'):\n",
    "    '''Function to obtain all metrics for multi-class classification models'''\n",
    "    print(title)\n",
    "    print(f'Accuracy: {accuracy_score(y_test, y_pred):.2f}')\n",
    "    print(f'Precision: {precision_score(y_test, y_pred, average=average):.2f}')\n",
    "    print(f'Recall: {recall_score(y_test, y_pred, average=average):.2f}')\n",
    "    print(f'F1 Score: {f1_score(y_test, y_pred, average=average):.2f}')"
   ]
  },
  {
   "cell_type": "code",
   "execution_count": null,
   "id": "32f3685f",
   "metadata": {},
   "outputs": [
    {
     "name": "stdout",
     "output_type": "stream",
     "text": [
      "KNeighborsClassifier:\n",
      "Accuracy: 0.99\n",
      "Precision: 0.99\n",
      "Recall: 0.99\n",
      "F1 Score: 0.99\n"
     ]
    }
   ],
   "source": [
    "# Algorithm 1: KNeighborsClassifier ----------\n",
    "kn_model = KNeighborsClassifier(n_neighbors=1)\n",
    "# Train the model\n",
    "kn_model.fit(x_train, y_train)\n",
    "# Make predictions\n",
    "y_pred = kn_model.predict(x_test)\n",
    "# Print all metrics\n",
    "all_metrics(y_test, y_pred, title='KNeighborsClassifier:')"
   ]
  },
  {
   "cell_type": "code",
   "execution_count": null,
   "id": "5f503da6",
   "metadata": {},
   "outputs": [
    {
     "name": "stdout",
     "output_type": "stream",
     "text": [
      "SVC:\n",
      "Accuracy: 0.99\n",
      "Precision: 0.99\n",
      "Recall: 0.99\n",
      "F1 Score: 0.99\n"
     ]
    }
   ],
   "source": [
    "# Algorithm 2: SVC ---------------------------\n",
    "svc_model = SVC(gamma='scale')\n",
    "svc_model.fit(x_train, y_train)\n",
    "y_pred = svc_model.predict(x_test)\n",
    "all_metrics(y_test, y_pred, title='SVC:')"
   ]
  },
  {
   "cell_type": "code",
   "execution_count": null,
   "id": "4d4c1dd4",
   "metadata": {},
   "outputs": [
    {
     "name": "stdout",
     "output_type": "stream",
     "text": [
      "GaussianNB:\n",
      "Accuracy: 0.82\n",
      "Precision: 0.87\n",
      "Recall: 0.82\n",
      "F1 Score: 0.83\n"
     ]
    }
   ],
   "source": [
    "# Algorithm 3: GaussianNB ----------------------\n",
    "gnb_model = GaussianNB()\n",
    "gnb_model.fit(x_train, y_train)\n",
    "y_pred = gnb_model.predict(x_test)\n",
    "all_metrics(y_test, y_pred, title='GaussianNB:')"
   ]
  },
  {
   "cell_type": "markdown",
   "id": "40809135",
   "metadata": {},
   "source": [
    "**Conclusion:** 'SVC' obtained better results."
   ]
  }
 ],
 "metadata": {
  "kernelspec": {
   "display_name": "env (3.8.10)",
   "language": "python",
   "name": "python3"
  },
  "language_info": {
   "codemirror_mode": {
    "name": "ipython",
    "version": 3
   },
   "file_extension": ".py",
   "mimetype": "text/x-python",
   "name": "python",
   "nbconvert_exporter": "python",
   "pygments_lexer": "ipython3",
   "version": "3.8.10"
  }
 },
 "nbformat": 4,
 "nbformat_minor": 5
}
